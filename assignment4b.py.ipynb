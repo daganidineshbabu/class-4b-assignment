{
 "cells": [
  {
   "cell_type": "code",
   "execution_count": 38,
   "id": "d94c7e7d",
   "metadata": {},
   "outputs": [
    {
     "name": "stdout",
     "output_type": "stream",
     "text": [
      "my frnd name is vioneeth\n"
     ]
    }
   ],
   "source": [
    "name1=\"vioneeth\"\n",
    "print (\"my frnd name is\",name1)"
   ]
  },
  {
   "cell_type": "code",
   "execution_count": 39,
   "id": "6d10f0eb",
   "metadata": {},
   "outputs": [
    {
     "name": "stdout",
     "output_type": "stream",
     "text": [
      "my frnd name is aditya\n"
     ]
    }
   ],
   "source": [
    "name2=\"aditya\"\n",
    "print (\"my frnd name is\",name2)"
   ]
  },
  {
   "cell_type": "code",
   "execution_count": 40,
   "id": "fa519200",
   "metadata": {},
   "outputs": [
    {
     "name": "stdout",
     "output_type": "stream",
     "text": [
      "my frnd name is sagar\n"
     ]
    }
   ],
   "source": [
    "name3=\"sagar\"\n",
    "print (\"my frnd name is\",name3)"
   ]
  },
  {
   "cell_type": "code",
   "execution_count": 41,
   "id": "e76fcbcf",
   "metadata": {},
   "outputs": [
    {
     "name": "stdout",
     "output_type": "stream",
     "text": [
      "my frnd name is pavan\n"
     ]
    }
   ],
   "source": [
    "name4=\"pavan\"\n",
    "print (\"my frnd name is\",name4)"
   ]
  },
  {
   "cell_type": "code",
   "execution_count": 42,
   "id": "9861c472",
   "metadata": {},
   "outputs": [
    {
     "name": "stdout",
     "output_type": "stream",
     "text": [
      "my frnd is sundar\n"
     ]
    }
   ],
   "source": [
    "name5=\"sundar\"\n",
    "print (\"my frnd is\",name5)"
   ]
  },
  {
   "cell_type": "code",
   "execution_count": 43,
   "id": "520efa14",
   "metadata": {},
   "outputs": [
    {
     "name": "stdout",
     "output_type": "stream",
     "text": [
      "my frnd is rohith\n"
     ]
    }
   ],
   "source": [
    "name6=(\"rohith\")\n",
    "print (\"my frnd is\",name6)"
   ]
  },
  {
   "cell_type": "code",
   "execution_count": 48,
   "id": "c9fabf75",
   "metadata": {},
   "outputs": [
    {
     "name": "stdout",
     "output_type": "stream",
     "text": [
      "my frnd name is rakesh\n"
     ]
    }
   ],
   "source": [
    "name7=\"rakesh\"\n",
    "print (\"my frnd name is\",name7)"
   ]
  },
  {
   "cell_type": "code",
   "execution_count": 49,
   "id": "b807c0a3",
   "metadata": {},
   "outputs": [
    {
     "name": "stdout",
     "output_type": "stream",
     "text": [
      "my frnd name is nagasai\n"
     ]
    }
   ],
   "source": [
    "name8=\"nagasai\"\n",
    "print (\"my frnd name is\",name8)"
   ]
  },
  {
   "cell_type": "code",
   "execution_count": 50,
   "id": "2936c074",
   "metadata": {},
   "outputs": [
    {
     "name": "stdout",
     "output_type": "stream",
     "text": [
      "my frnd name is rajesh\n"
     ]
    }
   ],
   "source": [
    "name9=\"rajesh\"\n",
    "print (\"my frnd name is\",name9)"
   ]
  },
  {
   "cell_type": "code",
   "execution_count": 51,
   "id": "657ec587",
   "metadata": {},
   "outputs": [
    {
     "name": "stdout",
     "output_type": "stream",
     "text": [
      "my frnd name is naveen\n"
     ]
    }
   ],
   "source": [
    "name10=\"naveen\"\n",
    "print (\"my frnd name is\",name10)"
   ]
  },
  {
   "cell_type": "code",
   "execution_count": 46,
   "id": "8b0aa46f",
   "metadata": {},
   "outputs": [
    {
     "name": "stdout",
     "output_type": "stream",
     "text": [
      "my father name is dagani joseph\n"
     ]
    }
   ],
   "source": [
    "name=\"dagani joseph\"\n",
    "print (\"my father name is\",name9)"
   ]
  },
  {
   "cell_type": "code",
   "execution_count": 47,
   "id": "efb22064",
   "metadata": {},
   "outputs": [
    {
     "name": "stdout",
     "output_type": "stream",
     "text": [
      "my mothername is dagani dhanalakshmi\n"
     ]
    }
   ],
   "source": [
    "name10=\"dagani dhanalakshmi\"\n",
    "print (\"my mothername is\",name10)"
   ]
  },
  {
   "cell_type": "code",
   "execution_count": 21,
   "id": "fcaa0d25",
   "metadata": {},
   "outputs": [
    {
     "name": "stdout",
     "output_type": "stream",
     "text": [
      "my elder brother name is dagani mahesh babu\n"
     ]
    }
   ],
   "source": [
    "name=\"dagani mahesh babu\"\n",
    "print (\"my elder brother name is\",name)"
   ]
  },
  {
   "cell_type": "code",
   "execution_count": 22,
   "id": "836b8047",
   "metadata": {},
   "outputs": [
    {
     "name": "stdout",
     "output_type": "stream",
     "text": [
      "my sister name is dagani sri priya devi\n"
     ]
    }
   ],
   "source": [
    "name=\"dagani sri priya devi\"\n",
    "print (\"my sister name is\",name)"
   ]
  },
  {
   "cell_type": "code",
   "execution_count": 16,
   "id": "5f599aad",
   "metadata": {},
   "outputs": [
    {
     "name": "stdout",
     "output_type": "stream",
     "text": [
      "my younger brother name is dagani prakash babu\n"
     ]
    }
   ],
   "source": [
    "name=\"dagani prakash babu\"\n",
    "print (\"my younger brother name is\",name)"
   ]
  },
  {
   "cell_type": "code",
   "execution_count": 17,
   "id": "722ab445",
   "metadata": {},
   "outputs": [
    {
     "name": "stdout",
     "output_type": "stream",
     "text": [
      "my sister in law name is dagani swapna\n"
     ]
    }
   ],
   "source": [
    "name=\"dagani swapna\"\n",
    "print (\"my sister in law name is\",name)"
   ]
  },
  {
   "cell_type": "code",
   "execution_count": 18,
   "id": "f6a54ea6",
   "metadata": {},
   "outputs": [
    {
     "name": "stdout",
     "output_type": "stream",
     "text": [
      "my elder brother son name is dagani tushar\n"
     ]
    }
   ],
   "source": [
    "name=\"dagani tushar\"\n",
    "print (\"my elder brother son name is\",name)"
   ]
  },
  {
   "cell_type": "code",
   "execution_count": 20,
   "id": "5784e313",
   "metadata": {},
   "outputs": [
    {
     "name": "stdout",
     "output_type": "stream",
     "text": [
      "my elder brother son name is dagani joe akheer\n"
     ]
    }
   ],
   "source": [
    "name=\"dagani joe akheer\"\n",
    "print (\"my elder brother son name is\",name)"
   ]
  },
  {
   "cell_type": "code",
   "execution_count": 23,
   "id": "b8e65dff",
   "metadata": {},
   "outputs": [
    {
     "name": "stdout",
     "output_type": "stream",
     "text": [
      "my fav food name is mushroom biryani\n"
     ]
    }
   ],
   "source": [
    "favfood=\"mushroom biryani\"\n",
    "print (\"my fav food name is\",favfood)"
   ]
  },
  {
   "cell_type": "code",
   "execution_count": 26,
   "id": "c3310706",
   "metadata": {},
   "outputs": [
    {
     "name": "stdout",
     "output_type": "stream",
     "text": [
      "my fav food is dal rice\n"
     ]
    }
   ],
   "source": [
    "favfood=\"dal rice\"\n",
    "print (\"my fav food is\",favfood)"
   ]
  },
  {
   "cell_type": "code",
   "execution_count": 27,
   "id": "0b2d08e8",
   "metadata": {},
   "outputs": [
    {
     "name": "stdout",
     "output_type": "stream",
     "text": [
      "my fav food is panner curry\n"
     ]
    }
   ],
   "source": [
    "favfood=\"panner curry\"\n",
    "print (\"my fav food is\",favfood)"
   ]
  },
  {
   "cell_type": "code",
   "execution_count": 28,
   "id": "b2b0f4de",
   "metadata": {},
   "outputs": [
    {
     "name": "stdout",
     "output_type": "stream",
     "text": [
      "my fav food is romala roti with palak panner\n"
     ]
    }
   ],
   "source": [
    "favfood=\"romala roti with palak panner\"\n",
    "print (\"my fav food is\",favfood)"
   ]
  },
  {
   "cell_type": "code",
   "execution_count": 29,
   "id": "7ab2233b",
   "metadata": {},
   "outputs": [
    {
     "name": "stdout",
     "output_type": "stream",
     "text": [
      "my fav food is onion dosa\n"
     ]
    }
   ],
   "source": [
    "favfood=\"onion dosa\"\n",
    "print (\"my fav food is\",favfood)"
   ]
  },
  {
   "cell_type": "code",
   "execution_count": 30,
   "id": "0bc13037",
   "metadata": {},
   "outputs": [
    {
     "name": "stdout",
     "output_type": "stream",
     "text": [
      "my fav food is nethi idly\n"
     ]
    }
   ],
   "source": [
    "favfood=\"nethi idly\"\n",
    "print (\"my fav food is\",favfood)"
   ]
  },
  {
   "cell_type": "code",
   "execution_count": 31,
   "id": "2f1cf28f",
   "metadata": {},
   "outputs": [
    {
     "name": "stdout",
     "output_type": "stream",
     "text": [
      "my fav food is perugu vada\n"
     ]
    }
   ],
   "source": [
    "favfood=\"perugu vada\"\n",
    "print (\"my fav food is\",favfood)"
   ]
  },
  {
   "cell_type": "code",
   "execution_count": 32,
   "id": "f6a22a46",
   "metadata": {},
   "outputs": [
    {
     "name": "stdout",
     "output_type": "stream",
     "text": [
      "my fav food is mutton curry\n"
     ]
    }
   ],
   "source": [
    "favfood=\"mutton curry\"\n",
    "print (\"my fav food is\",favfood)"
   ]
  },
  {
   "cell_type": "code",
   "execution_count": 33,
   "id": "7ef18ddf",
   "metadata": {},
   "outputs": [
    {
     "name": "stdout",
     "output_type": "stream",
     "text": [
      "my fav food is kaju curry\n"
     ]
    }
   ],
   "source": [
    "favfood=\"kaju curry\"\n",
    "print (\"my fav food is\",favfood)"
   ]
  },
  {
   "cell_type": "code",
   "execution_count": 34,
   "id": "dcbff3b7",
   "metadata": {},
   "outputs": [
    {
     "name": "stdout",
     "output_type": "stream",
     "text": [
      "my fav food is curd rice\n"
     ]
    }
   ],
   "source": [
    "favfood=\"curd rice\"\n",
    "print (\"my fav food is\",favfood)"
   ]
  },
  {
   "cell_type": "code",
   "execution_count": 35,
   "id": "00368c10",
   "metadata": {},
   "outputs": [
    {
     "name": "stdout",
     "output_type": "stream",
     "text": [
      "colour name is red\n"
     ]
    }
   ],
   "source": [
    "colourname=\"red\"\n",
    "print (\"colour name is\",colourname)"
   ]
  },
  {
   "cell_type": "code",
   "execution_count": 52,
   "id": "5ade3b8a",
   "metadata": {},
   "outputs": [
    {
     "name": "stdout",
     "output_type": "stream",
     "text": [
      "colourname is blue\n"
     ]
    }
   ],
   "source": [
    "colourname1=\"blue\"\n",
    "print (\"colourname is\",colourname1)"
   ]
  },
  {
   "cell_type": "code",
   "execution_count": 53,
   "id": "dffa0c2c",
   "metadata": {},
   "outputs": [
    {
     "name": "stdout",
     "output_type": "stream",
     "text": [
      "colourname is green\n"
     ]
    }
   ],
   "source": [
    "colourname2=\"green\"\n",
    "print (\"colourname is\",colourname2)"
   ]
  },
  {
   "cell_type": "code",
   "execution_count": 54,
   "id": "dda2eebc",
   "metadata": {},
   "outputs": [
    {
     "name": "stdout",
     "output_type": "stream",
     "text": [
      "colourname is yellow\n"
     ]
    }
   ],
   "source": [
    "colourname3=\"yellow\"\n",
    "print (\"colourname is\",colourname3)"
   ]
  },
  {
   "cell_type": "code",
   "execution_count": 56,
   "id": "096a0236",
   "metadata": {},
   "outputs": [
    {
     "name": "stdout",
     "output_type": "stream",
     "text": [
      "colourname is white\n"
     ]
    }
   ],
   "source": [
    "colourname4=\"white\"\n",
    "print (\"colourname is\",colourname4)"
   ]
  },
  {
   "cell_type": "code",
   "execution_count": 57,
   "id": "3903dfee",
   "metadata": {},
   "outputs": [
    {
     "name": "stdout",
     "output_type": "stream",
     "text": [
      "colourname is pimk\n"
     ]
    }
   ],
   "source": [
    "colourname5=\"pimk\"\n",
    "print (\"colourname is\",colourname5)"
   ]
  },
  {
   "cell_type": "code",
   "execution_count": 59,
   "id": "d0b2125d",
   "metadata": {},
   "outputs": [
    {
     "name": "stdout",
     "output_type": "stream",
     "text": [
      "colourname is orange\n"
     ]
    }
   ],
   "source": [
    "colourname6=\"orange\"\n",
    "print (\"colourname is\",colourname6)"
   ]
  },
  {
   "cell_type": "code",
   "execution_count": 60,
   "id": "7b524c53",
   "metadata": {},
   "outputs": [
    {
     "name": "stdout",
     "output_type": "stream",
     "text": [
      "colourname is sky blue\n"
     ]
    }
   ],
   "source": [
    "colourname7=\"sky blue\"\n",
    "print (\"colourname is\",colourname7)"
   ]
  },
  {
   "cell_type": "code",
   "execution_count": 61,
   "id": "6eb83f58",
   "metadata": {},
   "outputs": [
    {
     "name": "stdout",
     "output_type": "stream",
     "text": [
      "colourname is black\n"
     ]
    }
   ],
   "source": [
    "colourname8=\"black\"\n",
    "print (\"colourname is\",colourname8)"
   ]
  },
  {
   "cell_type": "code",
   "execution_count": null,
   "id": "8f765f0f",
   "metadata": {},
   "outputs": [],
   "source": [
    "colourname9=\"purple\"\n",
    "print (\"colourname is\",colourname)"
   ]
  },
  {
   "cell_type": "code",
   "execution_count": 63,
   "id": "dea2c140",
   "metadata": {},
   "outputs": [
    {
     "name": "stdout",
     "output_type": "stream",
     "text": [
      "colourname is grey\n"
     ]
    }
   ],
   "source": [
    "colourname10=\"grey\"\n",
    "print (\"colourname is\",colourname10)"
   ]
  },
  {
   "cell_type": "code",
   "execution_count": 65,
   "id": "7471c6de",
   "metadata": {},
   "outputs": [
    {
     "name": "stdout",
     "output_type": "stream",
     "text": [
      "month name is january\n"
     ]
    }
   ],
   "source": [
    "month1=\"january\"\n",
    "print (\"month name is\",month1)"
   ]
  },
  {
   "cell_type": "code",
   "execution_count": 66,
   "id": "919e2e1a",
   "metadata": {},
   "outputs": [
    {
     "name": "stdout",
     "output_type": "stream",
     "text": [
      "month name is febrauary\n"
     ]
    }
   ],
   "source": [
    "month2=\"febrauary\"\n",
    "print (\"month name is\",month2)"
   ]
  },
  {
   "cell_type": "code",
   "execution_count": 67,
   "id": "dda0569e",
   "metadata": {},
   "outputs": [
    {
     "name": "stdout",
     "output_type": "stream",
     "text": [
      "month name is march\n"
     ]
    }
   ],
   "source": [
    "month3=\"march\"\n",
    "print (\"month name is\",month3)"
   ]
  },
  {
   "cell_type": "code",
   "execution_count": 68,
   "id": "2841812c",
   "metadata": {},
   "outputs": [
    {
     "name": "stdout",
     "output_type": "stream",
     "text": [
      "month name is april\n"
     ]
    }
   ],
   "source": [
    "month4=\"april\"\n",
    "print (\"month name is\",month4)"
   ]
  },
  {
   "cell_type": "code",
   "execution_count": 69,
   "id": "9d9a2a8d",
   "metadata": {},
   "outputs": [
    {
     "name": "stdout",
     "output_type": "stream",
     "text": [
      "month name is may\n"
     ]
    }
   ],
   "source": [
    "month5=\"may\"\n",
    "print (\"month name is\",month5)"
   ]
  },
  {
   "cell_type": "code",
   "execution_count": 70,
   "id": "7e6b27cf",
   "metadata": {},
   "outputs": [
    {
     "name": "stdout",
     "output_type": "stream",
     "text": [
      "month name is june\n"
     ]
    }
   ],
   "source": [
    "month6=\"june\"\n",
    "print (\"month name is\",month6)"
   ]
  },
  {
   "cell_type": "code",
   "execution_count": 71,
   "id": "80e6f354",
   "metadata": {},
   "outputs": [
    {
     "name": "stdout",
     "output_type": "stream",
     "text": [
      "month name is july\n"
     ]
    }
   ],
   "source": [
    "month7=\"july\"\n",
    "print (\"month name is\",month7)"
   ]
  },
  {
   "cell_type": "code",
   "execution_count": 73,
   "id": "f9a27619",
   "metadata": {},
   "outputs": [
    {
     "name": "stdout",
     "output_type": "stream",
     "text": [
      "month name is auguest\n"
     ]
    }
   ],
   "source": [
    "month8=\"auguest\"\n",
    "print (\"month name is\",month8)"
   ]
  },
  {
   "cell_type": "code",
   "execution_count": 74,
   "id": "c22c376e",
   "metadata": {},
   "outputs": [
    {
     "name": "stdout",
     "output_type": "stream",
     "text": [
      "month name is september\n"
     ]
    }
   ],
   "source": [
    "month9=\"september\"\n",
    "print (\"month name is\",month9)"
   ]
  },
  {
   "cell_type": "code",
   "execution_count": 75,
   "id": "6d5a6bf6",
   "metadata": {},
   "outputs": [
    {
     "name": "stdout",
     "output_type": "stream",
     "text": [
      "month name is october\n"
     ]
    }
   ],
   "source": [
    "month10=\"october\"\n",
    "print (\"month name is\",month10)"
   ]
  },
  {
   "cell_type": "code",
   "execution_count": 76,
   "id": "64aabfb6",
   "metadata": {},
   "outputs": [
    {
     "name": "stdout",
     "output_type": "stream",
     "text": [
      "month name is november\n"
     ]
    }
   ],
   "source": [
    "month11=\"november\"\n",
    "print (\"month name is\",month11)"
   ]
  },
  {
   "cell_type": "code",
   "execution_count": 77,
   "id": "1d199393",
   "metadata": {},
   "outputs": [
    {
     "name": "stdout",
     "output_type": "stream",
     "text": [
      "month name is december\n"
     ]
    }
   ],
   "source": [
    "month12=\"december\"\n",
    "print (\"month name is\",month12)"
   ]
  },
  {
   "cell_type": "code",
   "execution_count": 79,
   "id": "58d25a06",
   "metadata": {},
   "outputs": [
    {
     "name": "stdout",
     "output_type": "stream",
     "text": [
      "my fav game is cricket\n"
     ]
    }
   ],
   "source": [
    "game1=\"cricket\"\n",
    "print (\"my fav game is\",game1)"
   ]
  },
  {
   "cell_type": "code",
   "execution_count": 80,
   "id": "454acc5b",
   "metadata": {},
   "outputs": [
    {
     "name": "stdout",
     "output_type": "stream",
     "text": [
      "my fav game is volleyball\n"
     ]
    }
   ],
   "source": [
    "game2=\"volleyball\"\n",
    "print (\"my fav game is\",game2)"
   ]
  },
  {
   "cell_type": "code",
   "execution_count": 81,
   "id": "7dd0b3bc",
   "metadata": {},
   "outputs": [
    {
     "name": "stdout",
     "output_type": "stream",
     "text": [
      "my fav game is badminton\n"
     ]
    }
   ],
   "source": [
    "game3=\"badminton\"\n",
    "print (\"my fav game is\",game3)"
   ]
  },
  {
   "cell_type": "code",
   "execution_count": 82,
   "id": "f392fe03",
   "metadata": {},
   "outputs": [
    {
     "name": "stdout",
     "output_type": "stream",
     "text": [
      "myn fav game is basketball\n"
     ]
    }
   ],
   "source": [
    "game4=\"basketball\"\n",
    "print (\"myn fav game is\",game4)"
   ]
  },
  {
   "cell_type": "code",
   "execution_count": 83,
   "id": "071f690b",
   "metadata": {},
   "outputs": [
    {
     "name": "stdout",
     "output_type": "stream",
     "text": [
      "my fav game is tennis\n"
     ]
    }
   ],
   "source": [
    "game5=\"tennis\"\n",
    "print (\"my fav game is\",game5)"
   ]
  },
  {
   "cell_type": "code",
   "execution_count": 85,
   "id": "27675b47",
   "metadata": {},
   "outputs": [
    {
     "name": "stdout",
     "output_type": "stream",
     "text": [
      "my fav game is archery\n"
     ]
    }
   ],
   "source": [
    "game6=\"archery\"\n",
    "print (\"my fav game is\",game6)"
   ]
  },
  {
   "cell_type": "code",
   "execution_count": 86,
   "id": "6c226f3d",
   "metadata": {},
   "outputs": [
    {
     "name": "stdout",
     "output_type": "stream",
     "text": [
      "my fav game is kabaddi\n"
     ]
    }
   ],
   "source": [
    "game7=\"kabaddi\"\n",
    "print (\"my fav game is\",game7)"
   ]
  },
  {
   "cell_type": "code",
   "execution_count": 87,
   "id": "d12c31e6",
   "metadata": {},
   "outputs": [
    {
     "name": "stdout",
     "output_type": "stream",
     "text": [
      "my fav game is chess\n"
     ]
    }
   ],
   "source": [
    "game8=\"chess\"\n",
    "print (\"my fav game is\",game8)"
   ]
  },
  {
   "cell_type": "code",
   "execution_count": 88,
   "id": "467767ab",
   "metadata": {},
   "outputs": [
    {
     "name": "stdout",
     "output_type": "stream",
     "text": [
      "my fav game is carrom\n"
     ]
    }
   ],
   "source": [
    "game9=\"carrom\"\n",
    "print (\"my fav game is\",game9)"
   ]
  },
  {
   "cell_type": "code",
   "execution_count": 90,
   "id": "c532328d",
   "metadata": {},
   "outputs": [
    {
     "name": "stdout",
     "output_type": "stream",
     "text": [
      "my fav game is baseball\n"
     ]
    }
   ],
   "source": [
    "game10=\"baseball\"\n",
    "print (\"my fav game is\",game10)"
   ]
  },
  {
   "cell_type": "code",
   "execution_count": 92,
   "id": "620e93b8",
   "metadata": {},
   "outputs": [
    {
     "name": "stdout",
     "output_type": "stream",
     "text": [
      "city name is mumbai\n"
     ]
    }
   ],
   "source": [
    "city1=\"mumbai\"\n",
    "print (\"city name is\",city1)"
   ]
  },
  {
   "cell_type": "code",
   "execution_count": 93,
   "id": "11841aa4",
   "metadata": {},
   "outputs": [
    {
     "name": "stdout",
     "output_type": "stream",
     "text": [
      "city name is banglore\n"
     ]
    }
   ],
   "source": [
    "city2=\"banglore\"\n",
    "print (\"city name is\",city2)"
   ]
  },
  {
   "cell_type": "code",
   "execution_count": 94,
   "id": "e29c14bc",
   "metadata": {},
   "outputs": [
    {
     "name": "stdout",
     "output_type": "stream",
     "text": [
      "city name is kolkata\n"
     ]
    }
   ],
   "source": [
    "city3=\"kolkata\"\n",
    "print (\"city name is\",city3)"
   ]
  },
  {
   "cell_type": "code",
   "execution_count": 95,
   "id": "327e33e0",
   "metadata": {},
   "outputs": [
    {
     "name": "stdout",
     "output_type": "stream",
     "text": [
      "city name is kochi\n"
     ]
    }
   ],
   "source": [
    "city4=\"kochi\"\n",
    "print (\"city name is\",city4)"
   ]
  },
  {
   "cell_type": "code",
   "execution_count": 96,
   "id": "900a81de",
   "metadata": {},
   "outputs": [
    {
     "name": "stdout",
     "output_type": "stream",
     "text": [
      "city name is chennai\n"
     ]
    }
   ],
   "source": [
    "city5=\"chennai\"\n",
    "print (\"city name is\",city5)"
   ]
  },
  {
   "cell_type": "code",
   "execution_count": 98,
   "id": "4bfa5902",
   "metadata": {},
   "outputs": [
    {
     "name": "stdout",
     "output_type": "stream",
     "text": [
      "city name is hyderabad\n"
     ]
    }
   ],
   "source": [
    "city6=\"hyderabad\"\n",
    "print (\"city name is\",city6)"
   ]
  },
  {
   "cell_type": "code",
   "execution_count": 99,
   "id": "94bbeb56",
   "metadata": {},
   "outputs": [
    {
     "name": "stdout",
     "output_type": "stream",
     "text": [
      "city name is ahmedabad\n"
     ]
    }
   ],
   "source": [
    "city7=\"ahmedabad\"\n",
    "print (\"city name is\",city7)"
   ]
  },
  {
   "cell_type": "code",
   "execution_count": 100,
   "id": "553abf10",
   "metadata": {},
   "outputs": [
    {
     "name": "stdout",
     "output_type": "stream",
     "text": [
      "city name is raipur\n"
     ]
    }
   ],
   "source": [
    "city8=\"raipur\"\n",
    "print (\"city name is\",city8)"
   ]
  },
  {
   "cell_type": "code",
   "execution_count": 101,
   "id": "4002ce90",
   "metadata": {},
   "outputs": [
    {
     "name": "stdout",
     "output_type": "stream",
     "text": [
      "city name is delhi\n"
     ]
    }
   ],
   "source": [
    "city9=\"delhi\"\n",
    "print (\"city name is\",city9)"
   ]
  },
  {
   "cell_type": "code",
   "execution_count": 102,
   "id": "db950059",
   "metadata": {},
   "outputs": [
    {
     "name": "stdout",
     "output_type": "stream",
     "text": [
      "city name is ranchi\n"
     ]
    }
   ],
   "source": [
    "city10=\"ranchi\"\n",
    "print (\"city name is\",city10)"
   ]
  },
  {
   "cell_type": "code",
   "execution_count": 8,
   "id": "6b078397",
   "metadata": {},
   "outputs": [
    {
     "data": {
      "text/plain": [
       "'vineeth'"
      ]
     },
     "execution_count": 8,
     "metadata": {},
     "output_type": "execute_result"
    }
   ],
   "source": [
    "lst=[\"vineeth\",\"naveen\",\"aditya\",\"sagar\",\"sundar\",\"rohith\",\"pavan\",\"rakesh\",\"rajesh\",\"naga sai\"]\n",
    "lst[0]"
   ]
  },
  {
   "cell_type": "code",
   "execution_count": 22,
   "id": "9b49c87f",
   "metadata": {},
   "outputs": [
    {
     "data": {
      "text/plain": [
       "['vineeth', 'naveen', 'aditya']"
      ]
     },
     "execution_count": 22,
     "metadata": {},
     "output_type": "execute_result"
    }
   ],
   "source": [
    "lst[0:3]"
   ]
  },
  {
   "cell_type": "code",
   "execution_count": 16,
   "id": "9eb3b1b9",
   "metadata": {},
   "outputs": [
    {
     "ename": "IndexError",
     "evalue": "list index out of range",
     "output_type": "error",
     "traceback": [
      "\u001b[1;31m---------------------------------------------------------------------------\u001b[0m",
      "\u001b[1;31mIndexError\u001b[0m                                Traceback (most recent call last)",
      "Cell \u001b[1;32mIn[16], line 1\u001b[0m\n\u001b[1;32m----> 1\u001b[0m \u001b[43mlst\u001b[49m\u001b[43m[\u001b[49m\u001b[38;5;241;43m4\u001b[39;49m\u001b[43m]\u001b[49m\n",
      "\u001b[1;31mIndexError\u001b[0m: list index out of range"
     ]
    }
   ],
   "source": [
    "lst[]"
   ]
  },
  {
   "cell_type": "code",
   "execution_count": null,
   "id": "6f32eca3",
   "metadata": {},
   "outputs": [],
   "source": []
  },
  {
   "cell_type": "code",
   "execution_count": null,
   "id": "77ce96a1",
   "metadata": {},
   "outputs": [],
   "source": []
  },
  {
   "cell_type": "code",
   "execution_count": null,
   "id": "27b59e63",
   "metadata": {},
   "outputs": [],
   "source": []
  },
  {
   "cell_type": "code",
   "execution_count": null,
   "id": "cea8caff",
   "metadata": {},
   "outputs": [],
   "source": []
  },
  {
   "cell_type": "code",
   "execution_count": null,
   "id": "7810218f",
   "metadata": {},
   "outputs": [],
   "source": []
  }
 ],
 "metadata": {
  "kernelspec": {
   "display_name": "Python 3 (ipykernel)",
   "language": "python",
   "name": "python3"
  },
  "language_info": {
   "codemirror_mode": {
    "name": "ipython",
    "version": 3
   },
   "file_extension": ".py",
   "mimetype": "text/x-python",
   "name": "python",
   "nbconvert_exporter": "python",
   "pygments_lexer": "ipython3",
   "version": "3.10.9"
  }
 },
 "nbformat": 4,
 "nbformat_minor": 5
}
